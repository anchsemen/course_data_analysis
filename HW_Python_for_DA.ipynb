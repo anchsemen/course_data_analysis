{
  "nbformat": 4,
  "nbformat_minor": 0,
  "metadata": {
    "colab": {
      "provenance": []
    },
    "kernelspec": {
      "name": "python3",
      "display_name": "Python 3"
    },
    "language_info": {
      "name": "python"
    }
  },
  "cells": [
    {
      "cell_type": "code",
      "execution_count": null,
      "metadata": {
        "id": "vL0heKpE8D1E"
      },
      "outputs": [],
      "source": [
        "class Chocolate:\n",
        "  def __init__(self, price: float, topping: str = None):\n",
        "    if price < 0:\n",
        "      raise ValueError(\"Цена должна быть больше 0!\")\n",
        "    self.price = price\n",
        "    self.topping = topping\n",
        "\n",
        "  def show_my_chocolate(self):\n",
        "    if self.topping == None:\n",
        "      print('Обычный шоколадный батончик')\n",
        "    else:\n",
        "      print(f'Шоколадный батончик, добавка: {self.topping}')\n",
        "\n",
        "  def __str__(self):\n",
        "    return f'Шоколадный батончик, {self.price} рублей.'"
      ]
    },
    {
      "cell_type": "code",
      "source": [
        "try:\n",
        "  choco1 = Chocolate(20, \"Орехи\")\n",
        "  choco1.show_my_chocolate()\n",
        "  print(choco1)\n",
        "except ValueError as e:\n",
        "    print(\"Ошибка в создании батончика:\", e)"
      ],
      "metadata": {
        "colab": {
          "base_uri": "https://localhost:8080/"
        },
        "id": "Fq3Pd-Kg9aEW",
        "outputId": "8624f3be-29a0-4e5e-a619-85dd644ff751"
      },
      "execution_count": null,
      "outputs": [
        {
          "output_type": "stream",
          "name": "stdout",
          "text": [
            "Шоколадный батончик, добавка: Орехи\n",
            "Шоколадный батончик, 1.5 рублей.\n"
          ]
        }
      ]
    },
    {
      "cell_type": "code",
      "source": [
        "try:\n",
        "  choco1 = Chocolate(-2, \"Нуга\")\n",
        "  choco1.show_my_chocolate()\n",
        "  print(choco1)\n",
        "except ValueError as e:\n",
        "    print(\"Ошибка в создании батончика:\", e)"
      ],
      "metadata": {
        "colab": {
          "base_uri": "https://localhost:8080/"
        },
        "id": "_ArtREl_-46w",
        "outputId": "3fbe393e-3253-46c7-8524-12d2b349dc61"
      },
      "execution_count": null,
      "outputs": [
        {
          "output_type": "stream",
          "name": "stdout",
          "text": [
            "Ошибка в создании батончика: Цена должна быть больше 0!\n"
          ]
        }
      ]
    },
    {
      "cell_type": "code",
      "source": [
        "try:\n",
        "  choco1 = Chocolate(1)\n",
        "  choco1.show_my_chocolate()\n",
        "  print(choco1)\n",
        "except ValueError as e:\n",
        "    print(\"Ошибка в создании батончика:\", e)"
      ],
      "metadata": {
        "colab": {
          "base_uri": "https://localhost:8080/"
        },
        "id": "Xt_OmTD9-_KQ",
        "outputId": "a3e04d87-ac20-41dd-b53f-bd27141d2b6c"
      },
      "execution_count": null,
      "outputs": [
        {
          "output_type": "stream",
          "name": "stdout",
          "text": [
            "Обычный шоколадный батончик\n",
            "Шоколадный батончик, 1 рублей.\n"
          ]
        }
      ]
    }
  ]
}